{
 "cells": [
  {
   "cell_type": "code",
   "execution_count": 4,
   "metadata": {},
   "outputs": [],
   "source": [
    "from models.resnet18_unet import *\n",
    "from collections import defaultdict\n",
    "import torch.nn.functional as F\n",
    "from utils.dataloader import CrackConcrete, CrackConcreteData\n",
    "import os\n",
    "import torch\n",
    "import torch.optim as optim\n",
    "import torch.backends.cudnn as cudnn\n",
    "from torch.utils.data import Dataset, DataLoader\n",
    "import argparse\n",
    "import torch.utils.data as data\n",
    "import torch.nn as nn\n",
    "import time\n",
    "import datetime\n",
    "import math\n",
    "import shutil\n",
    "from tqdm import trange\n",
    "from torchvision.ops import nms\n",
    "import tqdm\n",
    "from torch.utils.tensorboard import SummaryWriter\n",
    "from utils.loss import *\n",
    "from torch.optim import lr_scheduler\n",
    "import copy\n",
    "from torch.utils.data import Dataset, DataLoader\n",
    "from torchvision import transforms, datasets, models\n",
    "import math\n",
    "import cv2"
   ]
  },
  {
   "cell_type": "code",
   "execution_count": 5,
   "metadata": {},
   "outputs": [],
   "source": [
    "\n",
    "trans = transforms.Compose([\n",
    "        transforms.ToTensor(),\n",
    "        transforms.Normalize([0.485, 0.456, 0.406], [0.229, 0.224, 0.225]) # imagenet\n",
    "    ])\n",
    "device = \"cuda\"\n",
    "net = ResNetUNet(6)\n",
    "net = net.to(device)\n",
    "\n",
    "net.eval()   # Set model to the evaluation mode\n",
    "\n",
    "# Create another simulation dataset for test\n",
    "img = cv2.imread(\"images/crack.jpg\")\n",
    "\n"
   ]
  },
  {
   "cell_type": "markdown",
   "metadata": {},
   "source": [
    "# Get the first batch\n",
    "inputs, labels = next(iter(test_loader))\n",
    "inputs = inputs.to(device)\n",
    "labels = labels.to(device)\n",
    "\n",
    "# Predict\n",
    "pred = model(inputs)\n",
    "# The loss functions include the sigmoid function.\n",
    "pred = F.sigmoid(pred)\n",
    "pred = pred.data.cpu().numpy()\n",
    "print(pred.shape)\n",
    "\n",
    "# Change channel-order and make 3 channels for matplot\n",
    "input_images_rgb = [reverse_transform(x) for x in inputs.cpu()]\n",
    "\n",
    "# Map each channel (i.e. class) to each color\n",
    "target_masks_rgb = [helper.masks_to_colorimg(x) for x in labels.cpu().numpy()]\n",
    "pred_rgb = [helper.masks_to_colorimg(x) for x in pred]\n",
    "\n",
    "helper.plot_side_by_side([input_images_rgb, target_masks_rgb, pred_rgb])"
   ]
  }
 ],
 "metadata": {
  "interpreter": {
   "hash": "06c92e15b5474ea0d5758aee5e5458d2a2dc7abd010d00a180e403036f25eb4c"
  },
  "kernelspec": {
   "display_name": "Python 3.6.9 64-bit ('venv': virtualenv)",
   "name": "python3"
  },
  "language_info": {
   "codemirror_mode": {
    "name": "ipython",
    "version": 3
   },
   "file_extension": ".py",
   "mimetype": "text/x-python",
   "name": "python",
   "nbconvert_exporter": "python",
   "pygments_lexer": "ipython3",
   "version": "3.6.9"
  },
  "orig_nbformat": 4
 },
 "nbformat": 4,
 "nbformat_minor": 2
}
