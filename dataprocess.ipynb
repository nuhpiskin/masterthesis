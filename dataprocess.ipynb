{
 "cells": [
  {
   "cell_type": "code",
   "execution_count": 40,
   "metadata": {},
   "outputs": [],
   "source": [
    "import os\n",
    "from shutil import copyfile,move\n",
    "import random\n",
    "import numpy as np"
   ]
  },
  {
   "cell_type": "code",
   "execution_count": 39,
   "metadata": {},
   "outputs": [],
   "source": [
    "negative = \"/media/nmp/C/Tez/dataset/Classification/Train/Negative\"\n",
    "positive = \"/media/nmp/C/Tez/dataset/Classification/Train/Positive\"\n",
    "destination = \"/media/nmp/C/Tez/dataset/Classification/Train/Total\"\n",
    "for cl in [positive]:\n",
    "    for i in os.listdir(cl):\n",
    "        name = i.replace(\".jpg\",\"_p.jpg\")\n",
    "        copyfile(os.path.join(cl,i),os.path.join(destination,name))"
   ]
  },
  {
   "cell_type": "code",
   "execution_count": 49,
   "metadata": {},
   "outputs": [],
   "source": [
    "destination_data = os.listdir(destination)\n",
    "np.random.seed(32)\n",
    "validations = np.random.choice(destination_data, int(len(os.listdir(destination))*0.15))\n",
    "training = np.setdiff1d(destination_data , validations)"
   ]
  },
  {
   "cell_type": "code",
   "execution_count": 51,
   "metadata": {},
   "outputs": [
    {
     "data": {
      "text/plain": [
       "6000"
      ]
     },
     "execution_count": 51,
     "metadata": {},
     "output_type": "execute_result"
    }
   ],
   "source": [
    "len(training)\n",
    "len(validations)"
   ]
  },
  {
   "cell_type": "code",
   "execution_count": 54,
   "metadata": {},
   "outputs": [],
   "source": [
    "for i in training:\n",
    "    copyfile(os.path.join(destination,i),os.path.join(\"/media/nmp/C/Tez/dataset/Classification/Train/Train\",i))"
   ]
  },
  {
   "cell_type": "code",
   "execution_count": 35,
   "metadata": {},
   "outputs": [],
   "source": [
    "random.seed(30)\n",
    "validations = random.choices(os.listdir(destination),k=int(len(os.listdir(destination))*0.1))\n",
    "training = list(set(os.listdir(destination)) - set(validations))"
   ]
  }
 ],
 "metadata": {
  "interpreter": {
   "hash": "9a99376ed1a3751e40f419b46def7a5f5cefde04eb0adeea415a9b719c9892f1"
  },
  "kernelspec": {
   "display_name": "Python 3.6.9 64-bit ('venv': virtualenv)",
   "name": "python3"
  },
  "language_info": {
   "codemirror_mode": {
    "name": "ipython",
    "version": 3
   },
   "file_extension": ".py",
   "mimetype": "text/x-python",
   "name": "python",
   "nbconvert_exporter": "python",
   "pygments_lexer": "ipython3",
   "version": "3.6.9"
  },
  "orig_nbformat": 4
 },
 "nbformat": 4,
 "nbformat_minor": 2
}
